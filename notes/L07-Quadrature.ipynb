{
 "cells": [
  {
   "cell_type": "markdown",
   "metadata": {
    "slideshow": {
     "slide_type": "slide"
    }
   },
   "source": [
    "# MATH 405/607 \n",
    "\n",
    "# Numerical Methods for Differential Equations\n",
    "\n",
    "[[Instructor: Christoph Ortner]](http://www.math.ubc.ca/~ortner/)  [[course page]](https://github.com/cortner/math405_2022)\n",
    "\n",
    "# Quadrature \n",
    "\n",
    "* interpolatory quadrature\n",
    "* composite quadrature \n",
    "* Newton-Cotes quadrature \n",
    "\n",
    "### Literature \n",
    "\n",
    "* [Driscoll, Fundamentals of Numerical Computations](https://fncbook.github.io/fnc/localapprox/overview.html)\n",
    "* Süli and Mayers, An Introduction to Numerical Analysis, Ch 6-11 : range of elementary and advanced material\n",
    "* Trefethen, Approximation Theory and Approximation Practise : more advanced material"
   ]
  },
  {
   "cell_type": "code",
   "execution_count": null,
   "metadata": {
    "slideshow": {
     "slide_type": "slide"
    }
   },
   "outputs": [],
   "source": [
    "include(\"math405.jl\")"
   ]
  },
  {
   "cell_type": "markdown",
   "metadata": {
    "slideshow": {
     "slide_type": "slide"
    }
   },
   "source": [
    "## Numerical Integration / Quadrature \n",
    "\n",
    "**Motivation:** Suppose we wish to numerically evaluate an integral \n",
    "$$ \n",
    " I =  \\int_a^b f(x) \\,dx \n",
    "$$\n",
    "\n",
    "A far-reaching idea is to approximate $f \\approx p_N$ with a  polynomial and therefore approximate the integral \n",
    "$$ \n",
    " I \\approx I_N := \\int_{a}^b p_N(x) \\, dx\n",
    "$$ \n",
    "Because $p_N$ is a polynomial, $I_N$ can be evaluated analytically. Applying this idea in a \"piecewise\" fashion (cf splines!) leads to so-called *composite quadrature rules*.\n",
    "\n",
    "**Topics:** midpoint rule, trapezoidal rule, Simpson rule, Newton-Cotes quadrature, Clenshaw-Curtis quadrature, Gauss quadrature"
   ]
  },
  {
   "cell_type": "markdown",
   "metadata": {
    "slideshow": {
     "slide_type": "slide"
    }
   },
   "source": [
    "## Trapezoidal rule "
   ]
  },
  {
   "cell_type": "code",
   "execution_count": null,
   "metadata": {},
   "outputs": [],
   "source": [
    "f0 = x -> x/(1+10*x^2)\n",
    "\n",
    "MATH405.illustrate_trapezoidal(f0, 8)"
   ]
  },
  {
   "cell_type": "markdown",
   "metadata": {
    "slideshow": {
     "slide_type": "fragment"
    }
   },
   "source": [
    "Choose a partition $a = x_0 < x_1 < \\dots, x_M = b$ then the *trapezoidal  rule* is \n",
    "$$ \n",
    "  I_N := \\sum_{m = 1}^M \\frac{x_m-x_{m-1}}{2} \\big(f(x_{m-1}) + f(x_m)\\big)\n",
    "$$"
   ]
  },
  {
   "cell_type": "markdown",
   "metadata": {
    "slideshow": {
     "slide_type": "subslide"
    }
   },
   "source": [
    "Implementation of the trapezoidal rule:"
   ]
  },
  {
   "cell_type": "code",
   "execution_count": null,
   "metadata": {
    "slideshow": {
     "slide_type": "-"
    }
   },
   "outputs": [],
   "source": [
    "trapezoidal(g, N) = ( 0.5/N * (g(0.0) + g(1.0))\n",
    "                      + sum(g(n/N) for n=1:N-1) / N )"
   ]
  },
  {
   "cell_type": "code",
   "execution_count": null,
   "metadata": {
    "slideshow": {
     "slide_type": "fragment"
    }
   },
   "outputs": [],
   "source": [
    "# test it on our example function \n",
    "@show trapezoidal(f0, 5);\n",
    "@show trapezoidal(f0, 10);\n",
    "@show trapezoidal(f0, 20);\n",
    "@show trapezoidal(f0, 40);"
   ]
  },
  {
   "cell_type": "markdown",
   "metadata": {
    "slideshow": {
     "slide_type": "subslide"
    }
   },
   "source": [
    "### Error analysis\n",
    "\n",
    "Suppose that $x_m = (b-a) / M$, $m = 0, \\dots, M$ and $h = (b-a)/M = x_m - x_{m-1}$, then we know that the error in the linear interpolant is\n",
    "$$\n",
    "    \\| f - s_1 \\|_{\\infty} \\leq \\frac{h^2}{8} \\| f'' \\|_{\\infty} \n",
    "$$"
   ]
  },
  {
   "cell_type": "markdown",
   "metadata": {
    "slideshow": {
     "slide_type": "fragment"
    }
   },
   "source": [
    "and we immediately obtain \n",
    "$$\n",
    "    \\bigg| \\int_a^b f - s_1 \\,dx \\bigg| \\leq (b-a) \\| f - s_1 \\|_\\infty \\leq \\frac{ (b-a) h^2}{8} \\|f''\\|_\\infty.\n",
    "$$"
   ]
  },
  {
   "cell_type": "markdown",
   "metadata": {
    "slideshow": {
     "slide_type": "subslide"
    }
   },
   "source": [
    "But we can do a little better if we remember that $f - s_1 = \\frac{1}{2} (0-x) (h-x) f''(\\xi)$. Therefore: \n",
    "$$ \n",
    "     \\bigg|\\int_0^h f - s_1 \\,dx \\bigg| \n",
    "     \\leq \\frac{\\|f''\\|_\\infty}{2} \\int_0^h | x (h-x) | \\,dx\n",
    "     \\leq \\frac{h^3 \\|f''\\|_\\infty}{12}\n",
    "$$"
   ]
  },
  {
   "cell_type": "markdown",
   "metadata": {
    "slideshow": {
     "slide_type": "fragment"
    }
   },
   "source": [
    "**Proposition:** The error for the composite trapezoidal rule is bounded by \n",
    "$$ \n",
    "  |I - I_M| \\leq \\frac{ (b-a) h^2}{12} \\|f''\\|_\\infty.\n",
    "$$"
   ]
  },
  {
   "cell_type": "code",
   "execution_count": null,
   "metadata": {
    "slideshow": {
     "slide_type": "subslide"
    }
   },
   "outputs": [],
   "source": [
    "f = x -> 1/(1+10*x^2)\n",
    "If = atan(sqrt(10)) / sqrt(10) # the exact value of the integral -> CHECK THIS!\n",
    "maxd2f = 1/sqrt(10) \n",
    "\n",
    "trapezoidal(f, N) = ( 0.5/N * (f(0.0) + f(1.0)) + sum(f(n/N) for n=1:N-1)/N )\n",
    "\n",
    "NN = [4, 8, 16, 32, 64, 128]\n",
    "If_N = [ trapezoidal(f, N) for N in NN ]\n",
    "\n",
    "plot(NN, abs.(If_N .- If), lw=2, m=:o, ms=6, label = L\"|I - I_N|\", \n",
    "     xaxis = :log, yaxis = :log, size = (600, 300), \n",
    "     title = \"Convergence Trapezoidal rule\")\n",
    "plot!(NN[2:5], (maxd2f/12) * NN[2:5].^(-2), lw=2, ls=:dash, c=:black, label =  L\"\\sim N^{-2}\")"
   ]
  },
  {
   "cell_type": "markdown",
   "metadata": {
    "slideshow": {
     "slide_type": "slide"
    }
   },
   "source": [
    "### Midpoint rule\n",
    "\n",
    "Use piecewise constant interpolation at the interval midpoints: Choose a partition $a = x_0 < x_1 < \\dots, x_M = b$ then the *mid-point rule* is \n",
    "$$ \n",
    "  I_N := \\sum_{m = 1}^M (x_m-x_{m-1}) f\\big( 0.5 (x_{m-1}+x_m) \\big)\n",
    "$$"
   ]
  },
  {
   "cell_type": "code",
   "execution_count": null,
   "metadata": {
    "slideshow": {
     "slide_type": "-"
    }
   },
   "outputs": [],
   "source": [
    "MATH405.illustrate_midpoint(f0, 8)"
   ]
  },
  {
   "cell_type": "markdown",
   "metadata": {
    "slideshow": {
     "slide_type": "slide"
    }
   },
   "source": [
    "**Challenge:** Guess the order of approximation?\n",
    "$$ \n",
    "  I_M := \\sum_{m = 1}^M (x_m-x_{m-1}) f\\big( 0.5 (x_{m-1}+x_m) \\big)\n",
    "$$"
   ]
  },
  {
   "cell_type": "code",
   "execution_count": null,
   "metadata": {
    "slideshow": {
     "slide_type": "subslide"
    }
   },
   "outputs": [],
   "source": [
    "midpoint(f, N) = sum( f(x) for x in range(0.5/N, 1-0.5/N, length=N) ) / N\n",
    "\n",
    "If_mid = [ midpoint(f, N) for N in [4, 8, 16, 32, 64, 128] ]\n",
    "\n",
    "plot(NN, abs.(If_N .- If), lw=2, m=:o, ms=6, label = \"trapezoidal\", \n",
    "    xaxis = :log, yaxis = :log, size = (600, 300), \n",
    "    title = \"Convergence Midpoint Rule\")\n",
    "plot!(NN, abs.(If_mid .- If), lw=2, m=:o, ms=6, label = \"midpoint\")\n",
    "plot!(NN[2:5], (maxd2f/12)*NN[2:5].^(-2), lw=2, ls=:dash, c=:black, label =  L\"\\sim N^{-2}\")"
   ]
  },
  {
   "cell_type": "markdown",
   "metadata": {
    "slideshow": {
     "slide_type": "subslide"
    }
   },
   "source": [
    "**Analysis of the mid-point rule:**  Piecewise constant approximation suggests that the quadrature error should be $O(h) = O(N^{-1})$ but we observe $O(h^2) = O(N^{-2})$. To explain this we can make a more careful Taylor expansion: "
   ]
  },
  {
   "cell_type": "markdown",
   "metadata": {
    "slideshow": {
     "slide_type": "fragment"
    }
   },
   "source": [
    "$$\n",
    "  f(x) = f(h/2) + f'(h/2) (x - h/2) + f''(\\xi) (x-h/2)^2/2 \n",
    "$$"
   ]
  },
  {
   "cell_type": "markdown",
   "metadata": {
    "slideshow": {
     "slide_type": "fragment"
    }
   },
   "source": [
    "$$\n",
    "\\begin{aligned}\n",
    "  \\int_0^h f(x) dx &= h f(h/2) + f'(h/2) \\underset{=0}{\\underbrace{\\int_0^h (x-h/2) \\,dx}} + {\\rm remainder} \\\\ \n",
    "  |I - I_h| &\\leq \\frac{\\|f''\\|_\\infty}{2} \\int_0^h (x - h/2)^2 dx \n",
    "      = \\frac{\\|f''\\|_\\infty h^3}{24}\n",
    "\\end{aligned}\n",
    "$$"
   ]
  },
  {
   "cell_type": "markdown",
   "metadata": {
    "slideshow": {
     "slide_type": "subslide"
    }
   },
   "source": [
    "Now we can argue as in the analysis of the trapezoidal rule to prove the following result: \n",
    "\n",
    "**Proposition:** Let $I_N$ denote the composite mid-point rule, then \n",
    "$$ \n",
    "   |I - I_N| \\leq \\frac{(b-a) h^2}{24}  \\|f''\\|_{\\infty}.\n",
    "$$"
   ]
  },
  {
   "cell_type": "markdown",
   "metadata": {
    "slideshow": {
     "slide_type": "slide"
    }
   },
   "source": [
    "### Newton-Cotes Quadrature \n",
    "\n",
    "* Take $x_0, \\dots, x_N$ equi-spaced, and $p$ the nodal interpolant of $f$, then the *open Newton-Cotes formula is*\n",
    "$$\n",
    "  \\int_{x_0}^{x_N} f(x)\\,dx \\approx \\int_{x_0}^{x_N} p(x)\\,dx\n",
    "  = (x_N-x_0) \\sum_{n = 0}^N w_n f(x_n)\n",
    "$$\n",
    "(e.g. trapezoidal rule with $N = 1$\n",
    "\n",
    "* Take $q$ the nodal interpolant at $x_1, \\dots, x_{N-1}$ then the *closed Newton-Cotes formula* is \n",
    "$$\n",
    "  \\int_{x_0}^{x_N} f(x)\\,dx \\approx \\int_{x_0}^{x_N} q(x)\\,dx\n",
    "   = (x_N - x_0) \\sum_{ n = 1}^{N-1} w_n f(x_n).\n",
    "$$\n",
    "(e.g. mid-point rule with $N = 2$)\n"
   ]
  },
  {
   "cell_type": "markdown",
   "metadata": {
    "slideshow": {
     "slide_type": "fragment"
    }
   },
   "source": [
    "But remember that interpolation at equi-spaced points is unstable so we should probably not let $N \\to \\infty$!!! For small or moderate $N$, these can be good quadrature rules but they are rarely (never?) used for higher degrees where much better choices are available! We will explore this in a moment.\""
   ]
  },
  {
   "cell_type": "markdown",
   "metadata": {
    "slideshow": {
     "slide_type": "subslide"
    }
   },
   "source": [
    "### Simpson Rule \n",
    "\n",
    "E.g. the closed Newton-Cotes formula with $N=3$ is the Simpson rule \n",
    "$$ \n",
    "    I = \\int_0^h f(x) dx \\approx I_h = h  \\Big(\\frac{1}{6} f(0) + \\frac{4}{6} f(h/2) + \\frac{1}{6} f(h) \\Big)\n",
    "$$\n",
    "with error \n",
    "$$ \n",
    "   |I - I_h| \\leq \\frac{ \\|f^{(iv)} \\|_\\infty h^5}{2280}\n",
    "$$\n",
    "\n",
    "Determine weights: $p = $ quadratic interpolant of $f$ at nodes $0, h/2, h$\n",
    "$$\\begin{aligned}\n",
    "   I &= \\int_0^h f(x) dx \\approx \\int_0^h p(x) dx =: I_h \\\\\n",
    "   p(x) &= f(0) L_0(x) + f(h/2) L_1(x) + f(h) L_2(x) \\\\ \n",
    "   I_h &=  \\int_0^h p(x) dx = f(0) \\int_0^h L_0(x) dx + f(h/2) \\int_0^h L_1(x) dx + \\dots\n",
    "\\end{aligned}$$"
   ]
  },
  {
   "cell_type": "markdown",
   "metadata": {
    "slideshow": {
     "slide_type": "subslide"
    }
   },
   "source": [
    "### General interpolatory quadrature rules\n",
    "\n",
    "Take general interpolation points $x_0 < \\dots, x_N$ and $p(x)$ the nodal interpolant of $f$ and approximate\n",
    "$$\n",
    "   I = \\int_{x_0}^{x_N} f(x)\\,dx \\approx I_N := \\int_{x_0}^{x_N} p(x) \\,dx \n",
    "$$\n",
    "then we have \n",
    "$$ \n",
    "I_N =  (x_N-x_0) \\sum_{n = 0}^N f(x_n)\n",
    "    \\underset{=: w_n}{ \\underbrace{ \\frac{\\int_{x_0}^{x_N} L_n(x) \\,dx}{x_N-x_0} } } \n",
    "$$\n"
   ]
  },
  {
   "cell_type": "code",
   "execution_count": null,
   "metadata": {
    "slideshow": {
     "slide_type": "subslide"
    }
   },
   "outputs": [],
   "source": [
    "function unstable_quad_weights(X) \n",
    "    N = length(X)-1\n",
    "    V = [ x^n for x in X, n = 0:N ] \n",
    "    return pinv(V)' * (1 ./ collect(1:N+1))\n",
    "end\n",
    "\n",
    "unstable_quad_weights(range(0, 1, length=10))"
   ]
  },
  {
   "cell_type": "code",
   "execution_count": null,
   "metadata": {
    "slideshow": {
     "slide_type": "fragment"
    }
   },
   "outputs": [],
   "source": [
    "interp_quad(f, X) = dot(f.(X), unstable_quad_weights(X))\n",
    "\n",
    "newton_cotes_quad(f, N) = interp_quad(f, range(0, 1, length=N+1))"
   ]
  },
  {
   "cell_type": "code",
   "execution_count": null,
   "metadata": {
    "slideshow": {
     "slide_type": "subslide"
    }
   },
   "outputs": [],
   "source": [
    "f = x -> 1 / (1 + 25 * x^2)\n",
    "If = atan(5) / 5\n",
    "\n",
    "NN = 4:4:40\n",
    "If_nc = [ newton_cotes_quad(f, N) for N in NN ]\n",
    "\n",
    "plot(NN, abs.(If_nc .- If), lw=2, m=:o, ms=6, label = \"trapezoidal\", \n",
    "    yaxis = :log, size = (600, 300), \n",
    "    title = \"Convergence Newton-Cotes\")\n",
    "plot!(NN[1:4], 0.01*exp.(- 0.25 * NN[1:4]), lw=2, ls=:dash, c=:black, label =  L\"\\sim N^{-2}\")"
   ]
  },
  {
   "cell_type": "markdown",
   "metadata": {},
   "source": [
    "**Conclusion:** Newton-Cotes is unstable. This is entirely consistent with our expectation from higher-order polynomial interpolation with equidistant interpolation points. "
   ]
  },
  {
   "cell_type": "markdown",
   "metadata": {
    "slideshow": {
     "slide_type": "subslide"
    }
   },
   "source": [
    "### Clenshaw-Curtis Quadrature \n",
    "\n",
    "Remember from the lecture on interpolation that Chebyshev interpolation is far superior to equispaced interpolation - the approximation errors are much smaller. This motivates us to use the Chebyshev nodes also for interpolation. This is called [Clenshaw-Curtis quadrature](https://en.wikipedia.org/wiki/Clenshaw–Curtis_quadrature); see also this beautiful [review paper](http://people.maths.ox.ac.uk/trefethen/CC.pdf)"
   ]
  },
  {
   "cell_type": "markdown",
   "metadata": {
    "slideshow": {
     "slide_type": "fragment"
    }
   },
   "source": [
    "From the general framework (last slide) the quadrature nodes (= interpolation nodes) already fully specify the quadrature rule, we just need to get the weights. For Clenshaw-Curtis quadrature there is a very nice but intricate way to compute those weights via a Fast Fourier Transform. Here - just for the sake of demonstration - we use the unstable implementation via the Vandermonde matrix. "
   ]
  },
  {
   "cell_type": "code",
   "execution_count": null,
   "metadata": {},
   "outputs": [],
   "source": [
    "clenshaw_curtis_quad(f, N) = interp_quad(f, 0.5 .+ 0.5 * reverse(cos.( range(0, π, length=N+1) )))\n"
   ]
  },
  {
   "cell_type": "code",
   "execution_count": null,
   "metadata": {
    "slideshow": {
     "slide_type": "subslide"
    }
   },
   "outputs": [],
   "source": [
    "NN = 4:4:40\n",
    "\n",
    "If_nc = [ newton_cotes_quad(f, N) for N in NN ]\n",
    "If_cc = [ clenshaw_curtis_quad(f, N) for N in NN ]\n",
    "\n",
    "plot(NN, abs.(If_nc .- If), lw=2, m=:o, ms=6, label = \"Newton-Cotes\", \n",
    "    yaxis = :log, size = (600, 300), title = \"Convergence Spectral Quadrature\")\n",
    "plot!(NN, abs.(If_cc .- If), lw=2, m=:o, ms=6, label = \"Clenshaw-Curtis\")\n",
    "plot!(NN[1:5], 0.01*exp.(- 0.5 * NN[1:5]), lw=2, ls=:dash, c=:black, label =  L\"\\sim N^{-2}\")"
   ]
  },
  {
   "cell_type": "markdown",
   "metadata": {
    "slideshow": {
     "slide_type": "subslide"
    }
   },
   "source": [
    "In `math405.jl` there is an [alternative implementation](http://people.maths.ox.ac.uk/trefethen/CC.pdf) that exploits the fast Chebyshev transform. We won't study this in detail, but just take it as an illustration of \"what else is out there\" and another illustration of the importance of numerically stable algorithms!"
   ]
  },
  {
   "cell_type": "code",
   "execution_count": null,
   "metadata": {
    "slideshow": {
     "slide_type": "fragment"
    }
   },
   "outputs": [],
   "source": [
    "If_scc = [ MATH405.stable_clenshaw_curtis(f, N) for N in NN ]\n",
    "\n",
    "plot(NN, abs.(If_nc .- If), lw=2, m=:o, ms=6, label = \"Newton-Cotes\", \n",
    "    yaxis = :log, size = (600, 300), title = \"Convergence Spectral Quadrature\")\n",
    "plot!(NN, abs.(If_cc .- If), lw=2, m=:o, ms=6, label = \"Clenshaw-Curtis\")\n",
    "plot!(NN, abs.(If_scc .- If), lw=2, m=:o, ms=6, label = \"stable Clenshaw-Curtis\")\n",
    "\n",
    "plot!(NN[1:5], 0.01*exp.(- 0.5 * NN[1:5]), lw=2, ls=:dash, c=:black, label =  L\"\\sim N^{-2}\")"
   ]
  },
  {
   "cell_type": "markdown",
   "metadata": {
    "slideshow": {
     "slide_type": "slide"
    }
   },
   "source": [
    "## Summary Quadrature \n",
    "\n",
    "* Approximate $\\int f$ by $\\int p$ where $p$ is a polynomial interpolant\n",
    "* increase polynomial degree or decrease mesh-size (splines!) for convergence\n",
    "* close connection to polynomial and and spline approximation\n",
    "\n",
    "### Further reading\n",
    "\n",
    "* Gauss quadrature \n",
    "* Adaptive Quadrature\n",
    "* $hp$ refinement\n",
    "\n",
    "And some code: \n",
    "* [`Cubature.jl`](https://github.com/JuliaMath/Cubature.jl)\n",
    "* [`QuadratureRules.jl`](https://github.com/JuliaGNI/QuadratureRules.jl)"
   ]
  }
 ],
 "metadata": {
  "@webio": {
   "lastCommId": null,
   "lastKernelId": null
  },
  "celltoolbar": "Slideshow",
  "kernelspec": {
   "display_name": "Julia 1.7.3",
   "language": "julia",
   "name": "julia-1.7"
  },
  "language_info": {
   "file_extension": ".jl",
   "mimetype": "application/julia",
   "name": "julia",
   "version": "1.7.3"
  }
 },
 "nbformat": 4,
 "nbformat_minor": 4
}
