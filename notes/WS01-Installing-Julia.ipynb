{
 "cells": [
  {
   "cell_type": "markdown",
   "metadata": {
    "slideshow": {
     "slide_type": "slide"
    }
   },
   "source": [
    "# MATH 405/607 \n",
    "\n",
    "# Numerical Methods for Differential Equations\n",
    "\n",
    "[[Instructor: Christoph Ortner]](http://www.math.ubc.ca/~ortner/)  \n",
    "\n",
    "\n",
    "\n",
    "## Workshop: Julia + Ecosystem\n",
    "\n",
    "* Julia\n",
    "* Jupyter\n",
    "* Markdown and Latex \n",
    "* Resources"
   ]
  },
  {
   "cell_type": "markdown",
   "metadata": {
    "slideshow": {
     "slide_type": "slide"
    }
   },
   "source": [
    "## Julia\n",
    "\n",
    "[Julia](https://julialang.org) is a relatively young programming language, which aims to combine \n",
    "- the simplicity of Matlab,  \n",
    "  *(not really, but maybe close enough...)*\n",
    "- the dynamism of Python,   \n",
    "  *(true ... except for the pre-compilation times which are slowly improving...)*\n",
    "- the speed of C and         \n",
    "  *(definitely true; this is impressive!)*\n",
    "- the meta-programming capabilities of Lisp.    \n",
    "  *(also true; but we won't need it in this course.)*\n",
    "\n",
    "We will use Julia `v1.7.x` in this course. Personally, I strongly recommend Julia over Matlab and Python for anybody interested in numerical analysis / scientific computing who isn't *locked* into another language due to various contraints... e.g. a requirement of their research group or company to work with PyTorch."
   ]
  },
  {
   "cell_type": "markdown",
   "metadata": {
    "slideshow": {
     "slide_type": "subslide"
    }
   },
   "source": [
    "I assume everybody here is comfortable with either Matlab or Python. It will then take you no time to pick up (basic) Julia as well. A lot of resources can be found at [https://julialang.org/learning/](https://julialang.org/learning/). I particularly recommend\n",
    "\n",
    "* [Introduction to Julia](https://juliaacademy.com/p/intro-to-julia). If (like me) you don't like videos very much then jump straight to the [notebooks](https://github.com/JuliaAcademy/JuliaTutorials/tree/master/introductory-tutorials/intro-to-julia); 00-08 and 11-12 will be useful for this course, but the remaining notebooks are all highly recommended.\n",
    "* A more rapid introduction suitable for experience programmers can be found [here](https://learnxinyminutes.com/docs/julia/)\n"
   ]
  },
  {
   "cell_type": "markdown",
   "metadata": {
    "slideshow": {
     "slide_type": "subslide"
    }
   },
   "source": [
    "For this workshop we will set ourselves up with a working ecosystem. For 2022, we set up a Jupyter Hub, which is the recommended and supported way of working with Julia for this course. You are free to setup a local Julia installation on your personal computing equipment but realistically we (instructor or TA) can't really help you trouble-shoot that. Our jobs are\n",
    "\n",
    "1. login to Jupyter Hub at [https://math405.math.ubc.ca](https://math405.math.ubc.ca)\n",
    "2. learn how to git clone the course material \n",
    "3. learn how to view and run the codes in the course material \n",
    "4. learn how to complete and submit an assignment "
   ]
  },
  {
   "cell_type": "markdown",
   "metadata": {
    "slideshow": {
     "slide_type": "slide"
    }
   },
   "source": [
    "### 1 - Jupyter Hub\n",
    "\n",
    "* Point a web-browser to [https://math405.math.ubc.ca](https://math405.math.ubc.ca).\n",
    "* This Jupyter Hub is only accessible if you are on the UBC network. If not, then you must use [Cisco VPN](https://it.ubc.ca/services/email-voice-internet/myvpn).\n",
    "* On the Jupyter Hub front page type in your username and password. **TODO:** provide information on how to access username and password!\n",
    "* This should open the front page of jupyter hub. Please familarize yourself!\n",
    "* If you accidentally close the page and re-open it in the browser, your Jupyter instance should still be running, i.e. you don't need to log in again. But after 1h or inactivity you will be forcibly logged out."
   ]
  },
  {
   "cell_type": "markdown",
   "metadata": {
    "slideshow": {
     "slide_type": "slide"
    }
   },
   "source": [
    "### 2 - Git\n",
    "\n",
    "All course material is made available as in a [github repository](https://github.com/cortner/math405_2022.git). We will use command line git commands to close it and update it. \n",
    "\n",
    "* First, from the Jupyter hub *Launcher* tab open a terminal. This should open in your home folder (or use `cd ~` to swith to home if not). Now `cd` to the folder where you want to store the MATH405 course material. e.g., `cd mycourses`. But it's ok to just work in the home folder directly. \n",
    "* clone the course material by entering \n",
    "  ```\n",
    "  git clone https://github.com/cortner/math405_2022.git\n",
    "  ```\n",
    "  in the terminal.  \n",
    "* You can now open the course material and assignments in the browser column on the left. But before you do please read the next slide with several important warnings and caveats!\n",
    "* Later in the course when we publish updates to the course material, you need to switch to the folder where the course material is stored and then *pull* the latest changes, e.g.,  \n",
    "```\n",
    "cd ~/math405_2022 \n",
    "git pull\n",
    "```\n",
    "* If you are new to git and want to learn a little more, there are many nice tutorials.  Personally, I like the [Atlassian Tutorial](https://www.atlassian.com/git/tutorials)."
   ]
  },
  {
   "cell_type": "markdown",
   "metadata": {
    "slideshow": {
     "slide_type": "subslide"
    }
   },
   "source": [
    "### An important warning!\n",
    "\n",
    "* When you open some course notes or assignments and edit them, then you will be unable to update them with `git pull`. You should therefore *always* make a working copy before opening a notebook. E.g. right-click on a class notebook or assignment and then select `Duplicate`. Then work only in the copy.\n",
    "* If you did accidentally make changes to a notebook, you can revert the changes, using `git restore`. E.g. if you need to revert the changes to `assignments/A0/A0.ipynb` you can do so by running \n",
    "   ```\n",
    "   git restore assignments/A0/A0.ipynb\n",
    "   ```\n",
    "   But be warned that this will overwrite your changes, so make a copy first!    "
   ]
  },
  {
   "cell_type": "markdown",
   "metadata": {
    "slideshow": {
     "slide_type": "slide"
    }
   },
   "source": [
    "### View and run Class Notebooks\n",
    "\n",
    "* After cloning the git repo, use the browser to change the active folder to `math405_2022/notes`. \n",
    "* Double-click on any of the class notebooks, which should open them and you can now view and run them. \n",
    "* The class notebooks and assignments are based on Julia code, markdown and latex. We will experiment with all of these momentarily.\n",
    "\n",
    "### Warning\n",
    "\n",
    "If you are an experienced Julia user: do not try to install new packages, or update the current packages. The Julia environment is frozen and read-only. If you point the julia kernel to a local environment that is writable, then you run the risk that your assignments may execute for you but won't execute in our nbgrader environment.\n"
   ]
  },
  {
   "cell_type": "markdown",
   "metadata": {
    "slideshow": {
     "slide_type": "subslide"
    }
   },
   "source": [
    "* to create a new notebook, right-click in the file browser, then select `[New Notebook]`, then select the `[Julia 1.7.3]` kernel. \n",
    "* This will open a new empty notebook. Try to write some Julia code and some Markdown/Latex. To create cells type `[ESC]` and `[b]`, to change a cell to markdown mode `[ESC]` and `[m]`, or to code mode `[ESC]` and `[y]`. There is plenty more help in the `Help` menu.\n"
   ]
  },
  {
   "cell_type": "markdown",
   "metadata": {
    "slideshow": {
     "slide_type": "slide"
    }
   },
   "source": [
    "## Brief Introduction to Jupyter notebooks\n",
    "\n",
    "We will now briefly go through usage of Jupyter notebooks, which will be part of all aspects of the course: \n",
    "- slides / lecture notes \n",
    "- workshops\n",
    "- assignments\n",
    "- presentations\n",
    "\n",
    "so it is important that you familiarise yourself.\n",
    "\n",
    "*THIS* notebook you are reading right now is structured as a presentation. We will get to that later."
   ]
  },
  {
   "cell_type": "markdown",
   "metadata": {
    "slideshow": {
     "slide_type": "subslide"
    }
   },
   "source": [
    "Every Jupyter cell can either be a Markdown cell or a code cell. *THIS CELL* is a markdown cell. It is used for writing general text, information, as well as mathematics via a reduced set of Latex instructions, e.g., $e^{i\\pi} + 1 = 0$, or \n",
    "$$ \n",
    "    \\int_0^\\infty e^{-x} dx = 1.\n",
    "$$\n",
    "\n",
    "Please look at a Markdown tutorial, for example the  [Markdown Guide](https://www.markdownguide.org).\n",
    "\n",
    "Also - if you just double-click on the markdown cell you can inspect my markdown source code."
   ]
  },
  {
   "cell_type": "code",
   "execution_count": null,
   "metadata": {
    "slideshow": {
     "slide_type": "subslide"
    }
   },
   "outputs": [],
   "source": [
    "# This is a Julia code cell. Any code it contains will be executed \n",
    "# when you press [SHIFT]+[ENTER]\n",
    "exp(im * 2 * pi) - 1"
   ]
  },
  {
   "cell_type": "code",
   "execution_count": null,
   "metadata": {
    "slideshow": {
     "slide_type": "fragment"
    }
   },
   "outputs": [],
   "source": [
    "a = 1\n",
    "b = 2 \n",
    "c = a + b "
   ]
  },
  {
   "cell_type": "code",
   "execution_count": null,
   "metadata": {
    "slideshow": {
     "slide_type": "subslide"
    }
   },
   "outputs": [],
   "source": [
    "# We can do arithmetic as above but also visualisation.\n",
    "using Plots                         # load a plotting library \n",
    "plt = plot(; size = (500, 300))     # create a plot \n",
    "for n = 1:3\n",
    "    f(x) = cos(n * x)               # define a function \n",
    "    plot!(plt, f, -pi, pi, lw=3, label=\"cos($(n)x)\")    # add a graph \n",
    "end \n",
    "plt    # the last output of the cell will be displayed"
   ]
  },
  {
   "cell_type": "markdown",
   "metadata": {
    "slideshow": {
     "slide_type": "subslide"
    }
   },
   "source": [
    "A final comment: for this course I've created a short script `math405.jl` which loads the most the packages we need and provides a few little helper functions. Eventually you'll be able to manage your own Julia environment but initially (unless you know what you are doing) I recommend that you start every notebook by importing this script as follows:"
   ]
  },
  {
   "cell_type": "code",
   "execution_count": null,
   "metadata": {},
   "outputs": [],
   "source": [
    "include(\"math405.jl\")\n",
    "# if needed replace with the path to where math405 is stored."
   ]
  },
  {
   "cell_type": "markdown",
   "metadata": {
    "slideshow": {
     "slide_type": "slide"
    }
   },
   "source": [
    "### 3 - Assignments\n",
    "\n",
    "Assignment will be released via github. Once a new assignment has been released you should follow this procedure: \n",
    "* login to Jupyter Hub\n",
    "* open a terminal, `cd` to your `math405_2022` folder, e.g., \n",
    "```\n",
    "cd ~/math405_2022\n",
    "```\n",
    "* pull the new assignment (and latest course notes) \n",
    "```\n",
    "git pull\n",
    "``` \n",
    "* In the file browser, swith to the relevant assignment folder, e.g., `assignments/A1`\n",
    "* duplicate the `A1.ipynb` notebook; rename the new notebook e.g. append your name.\n",
    "* open the duplicated notebook and start working through the assignment. \n",
    "\n",
    "If something goes wrong, please read the instructions above in the git section on how to trouble-shoot!"
   ]
  },
  {
   "cell_type": "markdown",
   "metadata": {
    "slideshow": {
     "slide_type": "slide"
    }
   },
   "source": [
    "## Manual Installation Instructions\n",
    "\n",
    "If you want to install Julia and Jupyter at home, here is the basic process. The details can vary from one machine to the next, depending on your OS, or your existing setup. Therefore we will *not* support this! These notes are only for guidance./"
   ]
  },
  {
   "cell_type": "markdown",
   "metadata": {
    "slideshow": {
     "slide_type": "fragment"
    }
   },
   "source": [
    "1. Download and install Julia: go to [julialang.org](https://julialang.org), click on `[Download vx.xx]` and follow instructions\n",
    "2. Make sure you have a working git installation for your system, see https://git-scm.com for downloads\n",
    "3. Clone the course material. Change to a suitable working directory, and then from a terminal run \n",
    "``` \n",
    "git clone https://github.com/cortner/math405_2022.git\n",
    "```\n",
    "This will create a new directory `math405`. "
   ]
  },
  {
   "cell_type": "markdown",
   "metadata": {
    "slideshow": {
     "slide_type": "subslide"
    }
   },
   "source": [
    "4. Install all Julia packages needed for this course. First we start a Julia REPL, \n",
    "```\n",
    "cd math405/jlproject\n",
    "julia\n",
    "```\n",
    "which should start a Julia REPL; from within that REPL activate the math405 project: Type `]` to switch to the [package manager](https://github.com/JuliaLang/Pkg.jl) and then type \n",
    "``` \n",
    "activate .\n",
    "instantiate \n",
    "```\n",
    "This might take a while ...\n",
    "\n",
    "This activates a Julia environment (similar to Python environments) for which I've specified which packages we need. These will then be installed and built. In particular this should also install IJulia, and then automatically also python and Jupyter which are required to use IJulia."
   ]
  },
  {
   "cell_type": "markdown",
   "metadata": {
    "slideshow": {
     "slide_type": "subslide"
    }
   },
   "source": [
    "4.' In order to simplify starting the notebook server, you may wish to install the `IJulia` package also in the default environment. To that end, first exit the Julia REPL  (e.g. `CTRL+d`), then start a fresh REPL in the `math405` folder. Type `]` to switch to the package manager and then type \n",
    "```\n",
    "add IJulia \n",
    "```\n",
    "Exit the package manager by pressing `BACKSPACE`. Now you are back on the main Julia REPL. Continue with 5."
   ]
  },
  {
   "cell_type": "markdown",
   "metadata": {
    "slideshow": {
     "slide_type": "subslide"
    }
   },
   "source": [
    "5. Start a Jupyter server. From `math405` or `math405/notes` or an assignment folder start a Julia REPL again and then type \n",
    "```julia\n",
    "import IJulia\n",
    "IJulia.notebook()\n",
    "```\n",
    "There are alternative ways to start the Jupyter server; see [Jupyter](https://jupyter.org) and [IJulia.jl](https://github.com/JuliaLang/IJulia.jl) for more information on Jupyter and how Julia interacts with it.\n",
    "\n",
    "6. Try one of the notebooks, by clicking on the link in the Jupyter server. Try executing the cells. For help press `[ESC]` and then `[h]`\n",
    "\n",
    "Now that you've installed Julia and can download, view and execute IJulia notebooks, you can work through some tutorials on the Julia website; see links above."
   ]
  },
  {
   "cell_type": "markdown",
   "metadata": {
    "slideshow": {
     "slide_type": "subslide"
    }
   },
   "source": [
    "7. It will be useful for this course (though not technically required) to learn a little bit of GIT. Personally, I like the [Atlassian Tutorial](https://www.atlassian.com/git/tutorials), but there are many many others. \n",
    "\n",
    "If you prefer a UI to the terminal, then [Sourcetree](https://www.sourcetreeapp.com) and [GitKraken](https://www.gitkraken.com) are two very good choices. Another suggestion was [Github desktop](https://desktop.github.com/).\n",
    "\n",
    "8. Whenever I post updates to the course material, go to your `math405` folder and run `git pull`; this should pull the latest changes into your local repository. Or perform the analogous operation from your Git UI.\n",
    "\n",
    "9. **Copying the notebooks:** I highly recommend you copy the lecture notebooks before running and / or editing them, other wise the `pull` from step 8. won't work and it will become much more tedious to update your lecture material.\n",
    "\n",
    "10. If you are very comfortable with git, you can also fork the `math405` repository and commit your own course materials to that fork."
   ]
  },
  {
   "cell_type": "markdown",
   "metadata": {
    "slideshow": {
     "slide_type": "subslide"
    }
   },
   "source": [
    "11. **RISE Slides**\n",
    "\n",
    "For the lectures I use [RISE](https://rise.readthedocs.io/en/stable/) slides. I will not require this for the workshop presentations, but if you'd like to experiment then you can follow the straightforward [installation instructions](https://rise.readthedocs.io/en/stable/installation.html)."
   ]
  }
 ],
 "metadata": {
  "@webio": {
   "lastCommId": null,
   "lastKernelId": null
  },
  "celltoolbar": "Slideshow",
  "kernelspec": {
   "display_name": "Julia 1.7.3",
   "language": "julia",
   "name": "julia-1.7"
  },
  "language_info": {
   "file_extension": ".jl",
   "mimetype": "application/julia",
   "name": "julia",
   "version": "1.7.3"
  },
  "latex_envs": {
   "LaTeX_envs_menu_present": true,
   "autoclose": false,
   "autocomplete": true,
   "bibliofile": "biblio.bib",
   "cite_by": "apalike",
   "current_citInitial": 1,
   "eqLabelWithNumbers": true,
   "eqNumInitial": 1,
   "hotkeys": {
    "equation": "Ctrl-E",
    "itemize": "Ctrl-I"
   },
   "labels_anchors": false,
   "latex_user_defs": false,
   "report_style_numbering": false,
   "user_envs_cfg": false
  }
 },
 "nbformat": 4,
 "nbformat_minor": 4
}
