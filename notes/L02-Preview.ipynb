{
 "cells": [
  {
   "cell_type": "markdown",
   "metadata": {
    "slideshow": {
     "slide_type": "slide"
    }
   },
   "source": [
    "# MATH 405/607 \n",
    "\n",
    "# Numerical Methods for Differential Equations\n",
    "\n",
    "[[Instructor: Christoph Ortner]](http://www.math.ubc.ca/~ortner/)   [[course page]](https://github.com/cortner/math405_2022)\n",
    "\n",
    "## L02 - Preview\n",
    "\n",
    "* derivatives vs finite differences\n",
    "* Taylor expansion \n",
    "* preview of pitfalls when solving differential equations \n",
    "\n",
    "These slides are intended only for preview and motivation. The only part that is of this lecture that is required is the review of the Taylor expansion."
   ]
  },
  {
   "cell_type": "code",
   "execution_count": null,
   "metadata": {
    "slideshow": {
     "slide_type": "-"
    }
   },
   "outputs": [],
   "source": [
    "include(\"math405.jl\")"
   ]
  },
  {
   "cell_type": "markdown",
   "metadata": {
    "slideshow": {
     "slide_type": "slide"
    }
   },
   "source": [
    "### ODEs\n",
    "\n",
    "#### Initial Value Problems\n",
    "\n",
    "$$\\begin{aligned}\n",
    "    \\dot{u}(t) &= F(t, u(t))  \\\\ \n",
    "    u(0) &= u_0\n",
    "\\end{aligned}$$ \n"
   ]
  },
  {
   "cell_type": "markdown",
   "metadata": {
    "slideshow": {
     "slide_type": "subslide"
    }
   },
   "source": [
    "\n",
    "#### Boundary Value Problems\n",
    "\n",
    "$$\\begin{aligned}\n",
    "- u''(x) + r(x) u(x) &= f(x), \\qquad x \\in (0, 1) \\\\ \n",
    "  u(0) &= u_0, \\\\ \n",
    "  u(1) &= u_1\n",
    "\\end{aligned}$$\n"
   ]
  },
  {
   "cell_type": "markdown",
   "metadata": {
    "slideshow": {
     "slide_type": "subslide"
    }
   },
   "source": [
    "### PDEs\n",
    "\n",
    "#### Heat Equation (Parabolic) \n",
    "\n",
    "$$\\begin{aligned} \n",
    "   \\frac{\\partial u}{\\partial t} &= \\frac{\\partial^2 u}{\\partial x^2}, \\qquad t > 0, x \\in (0, 1) \\\\ \n",
    "   u(t=0, x) &= u_0(x) \\\\ \n",
    "   u(t, x=0) &= g_0 \\\\ \n",
    "   u(t, x = 1) &= g_1\n",
    "\\end{aligned}$$"
   ]
  },
  {
   "cell_type": "markdown",
   "metadata": {
    "slideshow": {
     "slide_type": "subslide"
    }
   },
   "source": [
    "#### Advection Equation (Hyperbolic)\n",
    "$$\\begin{aligned} \n",
    "   \\frac{\\partial u}{\\partial t} &= a \\frac{\\partial u}{\\partial x}, \\qquad t > 0, x \\in (0, 1) \\\\ \n",
    "   u(t=0, x) &= u_0(x) \\\\ \n",
    "   & {\\rm  + boundary condition?} \n",
    "\\end{aligned}$$\n",
    "\n",
    "#### ... and many more ..."
   ]
  },
  {
   "cell_type": "markdown",
   "metadata": {
    "slideshow": {
     "slide_type": "subslide"
    }
   },
   "source": [
    "- Does a solution exist? Or, under which conditions? \n",
    "- Is it unique? Stable under perturbations of data e.g. intial and boundary conditions? \n",
    "\n",
    "Although these questions are not the focus of this course, they are still intimately linked to numerical computing hence we will occasionally discuss them. Assume for now that a solution exists and is stable. \n",
    "\n",
    "- How do we compute it?\n",
    "- Key point: numerically and not symbolically!"
   ]
  },
  {
   "cell_type": "markdown",
   "metadata": {
    "slideshow": {
     "slide_type": "slide"
    }
   },
   "source": [
    "We can make our life particularly easy, \n",
    "\n",
    "$$\\begin{aligned}\n",
    "- u''(x) + u(x) &= 1, \\qquad x \\in (0, 1) \\\\ \n",
    "  u(0) &= 0, \\\\ \n",
    "  u(1) &= 0\n",
    "\\end{aligned}$$\n",
    "\n",
    "Then we can readily check that the following is a solution:\n",
    "\n",
    "$$\n",
    "   u(x) = 1 - \\frac{e^x + e^{1-x}}{1+e}\n",
    "$$\n",
    "\n",
    "* Question: Why can we get such a simple analytic solution? This is a rarety! Usually we cannot, hence the need for numerical methods.\n",
    "* Challenge: is it unique? If yes, provide a proof; if not, provide a counterexample."
   ]
  },
  {
   "cell_type": "code",
   "execution_count": null,
   "metadata": {
    "slideshow": {
     "slide_type": "subslide"
    }
   },
   "outputs": [],
   "source": [
    "# Plotting the solution \n",
    "u(x) = 1 -  (exp(x) + exp(1-x)) / (1 + MathConstants.e)\n",
    "plot(u, 0, 1, lw=3, label = \"u(x)\", size = (600, 300))"
   ]
  },
  {
   "cell_type": "markdown",
   "metadata": {
    "slideshow": {
     "slide_type": "slide"
    }
   },
   "source": [
    "### Discretising the solution \n",
    "\n",
    "We cannot store $u$ in a computer (infinite information), but we could store it (or an approximation) at finitely many points, \n",
    "\n",
    "$$\n",
    "        x_n = n/N, \\qquad n = 0, \\dots, N.\n",
    "$$\n",
    "\n",
    "which are called nodes, mesh, or grid points, etc.\n",
    "We call $h = 1/N$ the mesh-size or grid-size. We can evaluate $U_n = u(x_n)$ which give us a discretisation of the the solution."
   ]
  },
  {
   "cell_type": "code",
   "execution_count": null,
   "metadata": {
    "slideshow": {
     "slide_type": "fragment"
    }
   },
   "outputs": [],
   "source": [
    "N = 10; X = range(0, 1, length=N+1)\n",
    "scatter(X, 0*X, size = (600, 80), label = \"grid\")\n",
    "plot!(u, 0, 1, lw=2, label = \"continuous solution\")\n",
    "scatter!(X, u.(X), ms=5, label = \"discretisation\", size = (800, 200), legend=:outertopright)"
   ]
  },
  {
   "cell_type": "markdown",
   "metadata": {
    "slideshow": {
     "slide_type": "slide"
    }
   },
   "source": [
    "### Discretising the equation \n",
    "\n",
    "But what if we don't know the solution explicitly? This is the *typical* scenario!\n",
    "\n",
    "The idea is to devise an equation for the *discretised solution*. The first step is to evaluate the equation only at the nodes, e.g., \n",
    "\n",
    "$$\\begin{aligned}\n",
    "    u'(x_n) &= F(u(x_n)) \\\\ \n",
    "   - u''(x_n) + r(x_n) u(x_n) &= f(x_n) \\\\ \n",
    "   u_t(t_k, x_n) &= u_{xx}(t_k, x_n) \\\\ \n",
    "   u_t(t_k, x_n) &= u_x(t_k, x_n)\n",
    "\\end{aligned}$$\n",
    "\n",
    "By evaluating the data $f, r$ at the nodes, $U_n = u(x_n)$, $F_n = f(x_n)$ and $R_n = r(x_n)$, etc ... \n",
    "\n",
    "But what do we do about the derivatives? "
   ]
  },
  {
   "cell_type": "markdown",
   "metadata": {
    "slideshow": {
     "slide_type": "subslide"
    }
   },
   "source": [
    "### Finite Difference Approximation\n",
    "\n",
    "Taylor expansion:\n",
    "\n",
    "$$\n",
    "    u(x+h) = u(x) + h u'(x) + \\frac{h^2}{2} u''(x) + \\frac{h^3}{6} u'''(x) + \\frac{h^4}{24} u^{(iv)}(\\xi)\n",
    "$$"
   ]
  },
  {
   "cell_type": "markdown",
   "metadata": {
    "slideshow": {
     "slide_type": "fragment"
    }
   },
   "source": [
    "From this we can deduce, e.g., \n",
    "\n",
    "$$\\begin{aligned}\n",
    "    \\frac{u(x+h) - u(x)}{h} &= u'(x) + \\frac{h}{2} u''(x) + \\dots \\\\ \n",
    "    \\frac{u(x+h) - 2u(x) + h(x-h)}{h^2} &=  u''(x) + O(h^2)\n",
    "\\end{aligned}$$\n",
    "\n",
    "Can we replace $u''$ with its FD approximation?"
   ]
  },
  {
   "cell_type": "markdown",
   "metadata": {
    "slideshow": {
     "slide_type": "subslide"
    }
   },
   "source": [
    "This gives us\n",
    "\n",
    "$$\n",
    "    - \\frac{u(x_n+h) - 2 u(x_n) + u(x_{n}-h)}{h^2} + r(x_n) u(x_n) = f(x_n), \n",
    "$$\n",
    "\n",
    "But if we choose $h = 1/N$ (we did) then $u(x_n \\pm h) = U_{n \\pm 1}$, so we can write  a linear system for the *unknowns* $U_n$, $n = 0, \\dots, N$:\n",
    "\n",
    "$$\\begin{aligned}\n",
    "    - \\frac{U_{n+1} - 2 U_n + U_{n-1}}{h^2} + R_n U_n  &= F_n, \\quad n = 1, \\dots, N-1, \\\\ \n",
    "    U_0 &= u_0, \\\\ \n",
    "    U_1 &= u_1.\n",
    "\\end{aligned}$$\n",
    "\n",
    "(Note for the toy model we just have $u_0 = u_1 = 0, R_n = F_n = 1$.)"
   ]
  },
  {
   "cell_type": "markdown",
   "metadata": {
    "slideshow": {
     "slide_type": "subslide"
    }
   },
   "source": [
    "### Implementation of the FD Scheme\n",
    "\n",
    "$$\n",
    "\\begin{pmatrix}\n",
    "       2 h^{-2} + 1 & - h^{-2}  &  &      \\\\\n",
    "       -h^{-2} & 2 h^{-2} + 1 & - h^{-2}  &     \\\\\n",
    "          &  \\ddots & \\ddots & \\ddots\n",
    "\\end{pmatrix}\n",
    " \\cdot \n",
    " \\begin{pmatrix}\n",
    "        U_1 \\\\ U_2 \\\\ \\vdots\n",
    " \\end{pmatrix}\n",
    " = \n",
    " \\begin{pmatrix}\n",
    "      1 \\\\ 1 \\\\ \\vdots \n",
    " \\end{pmatrix}\n",
    "$$"
   ]
  },
  {
   "cell_type": "code",
   "execution_count": null,
   "metadata": {
    "slideshow": {
     "slide_type": "fragment"
    }
   },
   "outputs": [],
   "source": [
    "function solve_fd_bvp(N)\n",
    "    h = 1/N\n",
    "    F = ones(N-1)\n",
    "    A = Tridiagonal( - ones(N-2) / h^2 , (2/h^2+1)*ones(N-1), - ones(N-2) / h^2 )\n",
    "    U = A \\ F \n",
    "    return [[0.0]; U; [0.0]], range(0, 1, length=N+1)\n",
    "end"
   ]
  },
  {
   "cell_type": "code",
   "execution_count": null,
   "metadata": {
    "slideshow": {
     "slide_type": "subslide"
    }
   },
   "outputs": [],
   "source": [
    "N = 10 \n",
    "U, X = solve_fd_bvp(N)\n",
    "maxerr = norm(u.(X) - U, Inf)\n",
    "println(\"Error: $(maxerr); this is very good!\")\n",
    "\n",
    "plot(u, 0, 1, lw=3, label = \"exact solution\", size = (800, 300), legend = :outertopright, ylims=[-0.01, 0.12])\n",
    "scatter!(X, U, marker = :dot, ms=5, label = \"FD approximation\")"
   ]
  },
  {
   "cell_type": "markdown",
   "metadata": {
    "slideshow": {
     "slide_type": "slide"
    }
   },
   "source": [
    "### Error Analysis\n",
    "\n",
    "We have changed \n",
    "- how we represent the solution: a discrete set of points instead of a continuous function;\n",
    "- how we represent the equation: a finite-difference equation instead of a differential equation.\n",
    "\n",
    "Naturally, the question arises in what sense we can talk about error, and what that error is. This is one of the major topics of numerical analysis and scientific computing."
   ]
  },
  {
   "cell_type": "markdown",
   "metadata": {
    "slideshow": {
     "slide_type": "subslide"
    }
   },
   "source": [
    "In our last computational experiment we have implicitly adopted a seemingly sensible notion of error of our finite-difference solution. And we have shown that it is *remarkably* accurate; ca. 0.1% error which is already far better than typical engineering accuracy. Can we explain this?"
   ]
  },
  {
   "cell_type": "markdown",
   "metadata": {
    "slideshow": {
     "slide_type": "fragment"
    }
   },
   "source": [
    "We will later learn how to prove the following result:\n",
    "\n",
    "**Theorem:** Let $r > 0$ then \n",
    "$$\n",
    "    \\max_{n = 0, \\dots, N} |U_n - u(x_n)| \\leq \\frac{h^2}{96} \n",
    "$$\n"
   ]
  },
  {
   "cell_type": "markdown",
   "metadata": {
    "slideshow": {
     "slide_type": "subslide"
    }
   },
   "source": [
    "But we should now also confirm numerically that our result is (i) correct; and (ii) sharp. "
   ]
  },
  {
   "cell_type": "code",
   "execution_count": null,
   "metadata": {
    "slideshow": {
     "slide_type": "fragment"
    }
   },
   "outputs": [],
   "source": [
    "function get_maxerr(N) \n",
    "    U, X = solve_fd_bvp(N)\n",
    "    return norm(U - u.(X), Inf)\n",
    "end\n",
    "NN = [8, 16, 32, 64, 128]\n",
    "plot( NN, get_maxerr.(NN), lw=3, m=:o, ms=6, label = L\"\\| U - u \\|_\\infty\", \n",
    "      xaxis = :log, yaxis = :log, size=(600,350))\n",
    "plot!( NN, NN.^(-2) / 96, lw=2, ls=:dash, label = \"predicted rate\" )"
   ]
  },
  {
   "cell_type": "markdown",
   "metadata": {
    "slideshow": {
     "slide_type": "slide"
    }
   },
   "source": [
    "### Things can also go wrong (1)\n",
    "\n",
    "Consider an Advection-diffusion problem\n",
    "\n",
    "$$\\begin{aligned}\n",
    "    - 0.01 u''(x) + u'(x) = 1, \\quad u(0) = u(1) = 0\n",
    "\\end{aligned}$$\n",
    "\n",
    "discretised via \n",
    "\n",
    "$$\n",
    "    - 0.01 \\frac{U_{n+1} - 2 U_n + U_{n-1}}{h^2} + \\frac{U_{n+1} - U_{n-1}}{2h} = 1\n",
    "$$\n"
   ]
  },
  {
   "cell_type": "code",
   "execution_count": null,
   "metadata": {
    "slideshow": {
     "slide_type": "subslide"
    }
   },
   "outputs": [],
   "source": [
    "N = 10; epsn = 0.01; o = ones(N-1)\n",
    "F = [ [0.0]; o; [0.0] ]\n",
    "A = Tridiagonal( [ (-epsn*N^2 - 0.5*N) * o; [0.0] ], \n",
    "                 [ [1.0]; (2*epsn*N^2) * o; [1.0] ],\n",
    "                 [ [0.0]; (- epsn*N^2 + 0.5*N) * o] )\n",
    "plot(x -> x - (exp(x/0.01)-1)/(exp(1/0.01)-1), 0, 1, lw=3, label = \"exact\", legend = :topleft)\n",
    "plot!(range(0, 1, length=N+1), A \\ F, lw=3, ms=5, label =\"FD approx\", size=(600,300))"
   ]
  },
  {
   "cell_type": "markdown",
   "metadata": {
    "slideshow": {
     "slide_type": "subslide"
    }
   },
   "source": [
    "### Things can also go wrong (2)\n",
    "\n",
    "A parabolic / diffusion / heat equation; now $u = u(t, x)$ solves \n",
    "\n",
    "$$\n",
    "    u_t - u_{xx} = 0, \\qquad u(0, x) = x (1-x)\n",
    "$$\n",
    "\n",
    "Discretised by $U_n^j \\approx u(t_j, x_n)$, \n",
    "$$\n",
    "    \\frac{U_n^{j+1} - U_n^j}{k} - \\frac{U_{n+1}^j - 2 U_n^j + U_{n-1}^j}{h^2} = 0\n",
    "$$\n",
    "cf. lectures on stiff ODEs and on parabolic equations."
   ]
  },
  {
   "cell_type": "code",
   "execution_count": null,
   "metadata": {
    "slideshow": {
     "slide_type": "subslide"
    }
   },
   "outputs": [],
   "source": [
    "N = 20; o = ones(N-1); X = range(0, 1, length=N+1)\n",
    "A = Tridiagonal( [N^2*o; [0.0]], [[1.0]; -2*N^2*o; [1.0]], [[0.0]; N^2*o] )\n",
    "U = X .* (1 .- X)\n",
    "k = 1/N   # same step in time and space (we will later learn this is a bad idea!)\n",
    "p1 = plot(X, U, lw=3, label = \"t = 0\", yaxis = ([-5, 5],))\n",
    "maxU = [ norm(U, Inf) ]\n",
    "for j = 1:100\n",
    "    U += k * (A * U)\n",
    "    if j <= 3; plot!(p1, X, U, lw=3, label = \"t = $(round(j*k,digits=2))\"); end \n",
    "    push!(maxU, norm(U, Inf))\n",
    "end\n",
    "plot(p1, plot(0:100, maxU, lw=3, label=\"||U||\", xlabel = \"t\", yaxis = :log), size = (500, 300))"
   ]
  },
  {
   "cell_type": "markdown",
   "metadata": {
    "slideshow": {
     "slide_type": "subslide"
    }
   },
   "source": [
    "# Things can also go horribly wrong\n",
    "\n",
    "Time-dependent convection with periodic boundary conditions, \n",
    "\n",
    "$$\n",
    "    u_t + u_{x} = 0, \\qquad u(t, 0) = u(t, 1), \\qquad u(0, x) = \\sin(x)\n",
    "$$\n",
    "\n",
    "Discretised by $U_n^j \\approx u(t_j, x_n)$, \n",
    "$$\n",
    "    \\frac{U_n^{j+1} - U_n^j}{k} + \\frac{U_{n+1}^j - U_n^j}{h} = 0\n",
    "$$\n",
    "Cf. lectures on advection equations"
   ]
  },
  {
   "cell_type": "code",
   "execution_count": null,
   "metadata": {
    "slideshow": {
     "slide_type": "subslide"
    }
   },
   "outputs": [],
   "source": [
    "# spatial discretisation\n",
    "N = 30; X = range(0, 1-1/N, length=N);   \n",
    "A = diagm( -1 => -N * ones(N-1), 0 => N * ones(N), N-1 => [-N] )\n",
    "U = sin.(2*pi*X)   # initial condition \n",
    "k = 0.3/N          # timestep \n",
    "\n",
    "plot(X, U, lw=3, label = \"t = 0\", yaxis = ([-5, 5],))\n",
    "gif = @gif for j = 1:150\n",
    "    global U\n",
    "    U += k * (A * U)\n",
    "    plot(X, sin.(2*pi*(X .+ k*j)), label = \"exact\", lw=2, size=(500, 300))\n",
    "    plot!(X, U, yaxis = ([-1.5, 1.5],), lw=2,  \n",
    "          title = \"t = $(round(k*j, digits=2))\", \n",
    "          label = \"finite-difference\")\n",
    "end "
   ]
  },
  {
   "cell_type": "markdown",
   "metadata": {
    "slideshow": {
     "slide_type": "slide"
    }
   },
   "source": [
    "Some other equations we may want to solve: \n",
    "\n",
    "* Systems of ODEs\n",
    "$$\n",
    "   \\dot{u} = F(u)\n",
    "$$\n",
    "\n",
    "* Nonlinear advection (Burgers equations)\n",
    "$$\n",
    "   u_t + u u_x = 0  \n",
    "$$\n",
    "\n",
    "* Nonlinear elasticity (or a 1d version thereof...)\n",
    "$$\n",
    "    ( \\sigma(u_x) )_x = f \n",
    "$$\n",
    "\n",
    "* A calculus of variations problem: (Brachistochrone)\n",
    "$$\n",
    "    u = \\arg\\min \\int_0^1 \\sqrt{1 + u_x^2} \\,dx\n",
    "$$\n",
    "\n",
    "We will need some additional tools to solve all of these, including quadrature, nonlinear solvers, etc... "
   ]
  },
  {
   "cell_type": "markdown",
   "metadata": {
    "slideshow": {
     "slide_type": "subslide"
    }
   },
   "source": [
    "### Outline of Course: \n",
    "\n",
    "* Part 1: Basics of numerical computations \n",
    "* Part 2: ODEs \n",
    "* Part 3: PDEs \n",
    "* Part 4: let's see what we have time for? "
   ]
  }
 ],
 "metadata": {
  "@webio": {
   "lastCommId": null,
   "lastKernelId": null
  },
  "celltoolbar": "Slideshow",
  "kernelspec": {
   "display_name": "Julia 1.7.3",
   "language": "julia",
   "name": "julia-1.7"
  },
  "language_info": {
   "file_extension": ".jl",
   "mimetype": "application/julia",
   "name": "julia",
   "version": "1.7.3"
  },
  "latex_envs": {
   "LaTeX_envs_menu_present": true,
   "autoclose": false,
   "autocomplete": true,
   "bibliofile": "biblio.bib",
   "cite_by": "apalike",
   "current_citInitial": 1,
   "eqLabelWithNumbers": true,
   "eqNumInitial": 1,
   "hotkeys": {
    "equation": "Ctrl-E",
    "itemize": "Ctrl-I"
   },
   "labels_anchors": false,
   "latex_user_defs": false,
   "report_style_numbering": false,
   "user_envs_cfg": false
  }
 },
 "nbformat": 4,
 "nbformat_minor": 4
}
