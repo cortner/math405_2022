{
 "cells": [
  {
   "cell_type": "markdown",
   "metadata": {
    "slideshow": {
     "slide_type": "slide"
    }
   },
   "source": [
    "# MATH 405 - Numerical Methods for Differential Equations\n",
    "\n",
    "# MATH 607 - Topics in Numerical Analysis\n",
    "\n",
    "[[Instructor: Christoph Ortner]](http://www.math.ubc.ca/~ortner/)   [[course page]](https://github.com/cortner/math405_2022)"
   ]
  },
  {
   "cell_type": "markdown",
   "metadata": {
    "slideshow": {
     "slide_type": "subslide"
    }
   },
   "source": [
    "# Land Acknowledgement \n",
    "\n",
    "![](https://students.ubc.ca/sites/students.ubc.ca/files/styles/blog_header_image_widescreen_1x/public/31_08_17_MusqueamLand-header.jpg?itok=uzKjZ7lf)\n",
    "\n",
    "This course is taking place on the traditional, ancestral, and unceded territory of the xʷməθkʷəy̓əm (Musqueam) First Nation.\n",
    "\n"
   ]
  },
  {
   "cell_type": "markdown",
   "metadata": {
    "slideshow": {
     "slide_type": "subslide"
    }
   },
   "source": [
    "# Or, A Crash-Course in Numerical Computation\n",
    "\n",
    "Goal: understand the main principles behind *numerical* computations (as opposed to *symbolic* computations)\n",
    "\n",
    "* floating point arithmetic (underpins everything but will play a minor role in this course!)\n",
    "* solve linear and nonlinear systems (approximately)\n",
    "* approximate functions \n",
    "* how to differentiate and integrate numerically\n",
    "* **solving differential equations numerically**"
   ]
  },
  {
   "cell_type": "code",
   "execution_count": null,
   "metadata": {
    "slideshow": {
     "slide_type": "-"
    }
   },
   "outputs": [],
   "source": [
    "using PyCall \n",
    "YouTubeVideo = pyimport(\"IPython.lib.display\").YouTubeVideo\n",
    "Video = pyimport(\"IPython.display\").Video;"
   ]
  },
  {
   "cell_type": "markdown",
   "metadata": {
    "slideshow": {
     "slide_type": "slide"
    }
   },
   "source": [
    "Cahn-Hilliard equation: phase separation of a binary fluid)\n",
    "$$\n",
    "    c_t = \\Delta \\big( c^3 - c - \\gamma \\Delta c \\big)\n",
    "$$"
   ]
  },
  {
   "cell_type": "code",
   "execution_count": null,
   "metadata": {
    "slideshow": {
     "slide_type": "fragment"
    }
   },
   "outputs": [],
   "source": [
    "YouTubeVideo(\"MovUu2DwWvI\")  # (Brian Wetton)"
   ]
  },
  {
   "cell_type": "markdown",
   "metadata": {
    "slideshow": {
     "slide_type": "slide"
    }
   },
   "source": [
    "Linear Wave equation\n",
    "$$ \n",
    "    u_{tt} = \\Delta u\n",
    "$$\n",
    "models models many phenomen a of course, or, we can have fun and solve it on the [Stanford Bunny](https://graphics.stanford.edu/software/scanview/models/bunny.html)  (see also similar works by [Colin MacDonald](https://www.math.ubc.ca/~cbm/)"
   ]
  },
  {
   "cell_type": "code",
   "execution_count": null,
   "metadata": {
    "slideshow": {
     "slide_type": "fragment"
    }
   },
   "outputs": [],
   "source": [
    "YouTubeVideo(\"Bz8tT4-bV2w\")"
   ]
  },
  {
   "cell_type": "markdown",
   "metadata": {
    "slideshow": {
     "slide_type": "slide"
    }
   },
   "source": [
    "Molecular Dynamics: (or more general Hamiltonian dynamics)\n",
    "$$ \n",
    "    m_n \\ddot{r_n} = - \\nabla E(r_1, \\dots, r_N)\n",
    "$$"
   ]
  },
  {
   "cell_type": "code",
   "execution_count": null,
   "metadata": {
    "slideshow": {
     "slide_type": "fragment"
    }
   },
   "outputs": [],
   "source": [
    "YouTubeVideo(\"3xaZwbKyYdM\")    # ice melting"
   ]
  },
  {
   "cell_type": "markdown",
   "metadata": {
    "slideshow": {
     "slide_type": "slide"
    }
   },
   "source": [
    "### Reality -> Model -> Simulation -> Prediction\n",
    "\n",
    "* Mathematical models of \"real-world\" processes (physics, chemistry, life sciences, engineering, ...) more often than not take the form of a system of ordinary or partial differential equations, integral equations, or closely related models. (sometimes stochastic, on networks, etc, but this is beyond the scope of this course) \n",
    "\n",
    "* In this course we take the mathematical model as given and study how it is solved numerically.\n",
    "\n",
    "* But we should not forget what the origin of the mathematical model is so that we are appreciative of the requirements. \n",
    "  - the model is an approximation of reality, the numerical scheme is an approximation of the model.\n",
    "  - how accurate is the model, i.e. how accurate should the numerical solution be? \n",
    "  - how accurate are the model parameters? \n",
    "  - are real-time simulations required?\n",
    "  - long-time behaviour? \n",
    "  - inverse and control problems? "
   ]
  },
  {
   "cell_type": "markdown",
   "metadata": {
    "slideshow": {
     "slide_type": "subslide"
    }
   },
   "source": [
    "A few important PDEs (there are many variations!)\n",
    "\n",
    "* Laplace equation \n",
    "$$\n",
    " - \\Delta u = f \n",
    "$$\n",
    "* Heat equation \n",
    "$$\n",
    " u_t - \\Delta u = f \n",
    "$$\n",
    "* Wave equation \n",
    "$$ \n",
    "  u_{tt} - \\Delta u = f \n",
    "$$\n",
    "* Navier's equations : small-strain elasticity \n",
    "$$ \n",
    "  - \\mu \\Delta u + (\\lambda+\\mu) \\nabla {\\rm Div} u = f \n",
    "$$\n",
    "* Nonlinear elastodynamics \n",
    "$$ \n",
    "   u_{tt} = {\\rm div} \\Sigma(\\nabla u) + f \n",
    "$$\n",
    "* Navier-Stokes equations : incompressible viscous fluids \n",
    "$$ \n",
    "   u_t + (u \\cdot \\nabla)u = \\nu \\Delta u - \\nabla p, \\quad {\\rm Div} u = 0 \n",
    "$$\n",
    "* Reaction-Diffusion systems \n",
    "* Maxwell equation \n",
    "* Einstein\n",
    "* ..."
   ]
  },
  {
   "cell_type": "markdown",
   "metadata": {
    "slideshow": {
     "slide_type": "slide"
    }
   },
   "source": [
    "## Some Admin \n",
    "\n",
    "### Jupyter Notebooks\n",
    "\n",
    "This course will be taught via [Jupyter notebooks](https://jupyter.org). These notebooks provide a nice environment mixing web technologies, mathematical text (latex) and code. I will use Julia for this course (The \"Ju\" in Jupyter) but these notebooks can in principle also used with Python (\"Py\"), R, and other languages:  [docs](https://jupyter4edu.github.io/jupyter-edu-book/jupyter.html#language-support-kernels)\"The Jupyter system supports over 100 programming languages (called “kernels” in the Jupyter ecosystem) including Python, Java, R, Julia, Matlab, Octave, Scheme, Processing, Scala, and many more. \"\n",
    "\n",
    "* For today's lecture just follow along; I will say a little more about Jupyter, Julia and our eco-system in the next lecture.\n",
    "* You can try to access the Jupyter hub or install Julia/Jupyter/IJulia by yourself until then, following the [`WS01` notebook](WS01-Installing-Julia.ipynb) which can be accessed through the course github website.\n"
   ]
  },
  {
   "cell_type": "markdown",
   "metadata": {
    "slideshow": {
     "slide_type": "subslide"
    }
   },
   "source": [
    "### Grades\n",
    "\n",
    "* 50%: 6 assignments throughout term. They will require some time investment.\n",
    "* 10% Each student will give 1 short group presentation. Projects/presentations will be prepared in small groups of 3 (normally). I will assign these groups randomly. Total presentation time ca 15-20 minutes. I will publish precise rubriks.\n",
    "* 10% : midterm, ca end-October.\n",
    "* 30% : final, tba. \n",
    "\n",
    "More details, see course syllabus."
   ]
  },
  {
   "cell_type": "markdown",
   "metadata": {
    "slideshow": {
     "slide_type": "subslide"
    }
   },
   "source": [
    "### Assignments \n",
    "\n",
    "* 6 assignments: 3% + 7% + 4 x 10%\n",
    "* at least 2 weeks from posting the assignment to due date\n",
    "* assignments will always be due at 12 noon\n",
    "* time-stamped submission via CANVAS\n",
    "* Late submissions: 0%. Please manage your time well and complete the assignments with plenty of buffer time. \n",
    "* Assignments will sometimes offer choices on whether to complete theoretical or computational questions.\n",
    "* Concessions only through faculty advising with one exception: if you miss the midterm, then the 10% will automatically be moved to the final."
   ]
  },
  {
   "cell_type": "markdown",
   "metadata": {
    "slideshow": {
     "slide_type": "subslide"
    }
   },
   "source": [
    "### Classes\n",
    "\n",
    "* Go through the most important material, using Jupyter notebook slides.\n",
    "* Questions on the lecture material (please remember there are no stupid questions - if in doubt, blame the lecturer for not being sufficient clear...)\n",
    "* Student project presentations\n",
    "* Occasionally some additional material from me, or some free discussion, e.g. we might go into some more technical aspects of approximation theory or computing with Julia.\n",
    "* We will discuss some of the assignments\n",
    "\n",
    "### Office Hours\n",
    "\n",
    "* TBA\n",
    "* Ad hoc office hours in exceptional circumstances."
   ]
  },
  {
   "cell_type": "markdown",
   "metadata": {
    "slideshow": {
     "slide_type": "subslide"
    }
   },
   "source": [
    "## Poll\n",
    "\n",
    "What platform would you like to use for communication? (we will support only one of them)\n",
    "- Canvas\n",
    "- Piazza\n",
    "- Zulip \n",
    "- Discord"
   ]
  },
  {
   "cell_type": "markdown",
   "metadata": {
    "slideshow": {
     "slide_type": "slide"
    }
   },
   "source": [
    "# General Questions?"
   ]
  },
  {
   "cell_type": "code",
   "execution_count": null,
   "metadata": {
    "slideshow": {
     "slide_type": "slide"
    }
   },
   "outputs": [],
   "source": [
    "# more fun examples of simulations on Youtube\n",
    "YouTubeVideo(\"u8Kfn2o7epQ\")    # Nonlinear elasticity - more from the Stanford bunny\n",
    "YouTubeVideo(\"-kDb0HlDsIM\")    # thermal convection in earth's mantle \n",
    "YouTubeVideo(\"dbBmSBA7Kyw\")    # spread of covid-19\n",
    "YouTubeVideo(\"gxAaO2rsdIs\")    # simulating the spread of an epidemic \n",
    "YouTubeVideo(\"_0QhOCDzP4I&t\")  # salt crystal melting in water\n",
    "YouTubeVideo(\"jj0WsQYtT7M\")    # NASA climate simulations\n",
    "YouTubeVideo(\"rtBlZJ6gNiI\")    # Predicting matter distribution in the universe \n",
    "YouTubeVideo(\"bJX8fVsq5oQ\")    # cf. e.g. Wachs, Frigard\n",
    "YouTubeVideo(\"vOFcHqImXJ8\")    # fun real-time NS \n",
    "YouTubeVideo(\"hz7UjN_vYuw\")    # flow past an airfoil - high resolution, \n",
    ";"
   ]
  },
  {
   "cell_type": "markdown",
   "metadata": {
    "slideshow": {
     "slide_type": "slide"
    }
   },
   "source": [
    "Brusselator: simple model for an autocatalytic reaction (arises also in enzymatic reactions, plasma and laser physics)\n",
    "$$\\begin{aligned}\n",
    " u_t &= B + u^2 v - (A+1) u + \\alpha \\Delta u \\\\ \n",
    " v_t &= Au  - u^2 v + \\alpha \\Delta v\n",
    "\\end{aligned}$$\n",
    "\n",
    "The embedded video will probably fail - [try this link instead](https://www.math.ubc.ca/~cbm/closestpoint/brusbunny.mpg)"
   ]
  },
  {
   "cell_type": "code",
   "execution_count": null,
   "metadata": {
    "slideshow": {
     "slide_type": "fragment"
    }
   },
   "outputs": [],
   "source": [
    "# simulation on a surface using Steve Ruth and Colin Macdonald's closest point method\n",
    "Video(url=\"https://www.math.ubc.ca/~cbm/closestpoint/brusbunny.mpg\", embed=true)  "
   ]
  }
 ],
 "metadata": {
  "@webio": {
   "lastCommId": null,
   "lastKernelId": null
  },
  "celltoolbar": "Slideshow",
  "kernelspec": {
   "display_name": "Julia 1.7.3",
   "language": "julia",
   "name": "julia-1.7"
  },
  "language_info": {
   "file_extension": ".jl",
   "mimetype": "application/julia",
   "name": "julia",
   "version": "1.7.3"
  },
  "latex_envs": {
   "LaTeX_envs_menu_present": true,
   "autoclose": false,
   "autocomplete": true,
   "bibliofile": "biblio.bib",
   "cite_by": "apalike",
   "current_citInitial": 1,
   "eqLabelWithNumbers": true,
   "eqNumInitial": 1,
   "hotkeys": {
    "equation": "Ctrl-E",
    "itemize": "Ctrl-I"
   },
   "labels_anchors": false,
   "latex_user_defs": false,
   "report_style_numbering": false,
   "user_envs_cfg": false
  }
 },
 "nbformat": 4,
 "nbformat_minor": 2
}
